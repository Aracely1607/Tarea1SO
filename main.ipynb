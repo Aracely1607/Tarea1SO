{
 "cells": [
  {
   "cell_type": "code",
   "execution_count": 1,
   "metadata": {},
   "outputs": [],
   "source": [
    "import random\n",
    "import time\n",
    "\n",
    "from tkinter import *\n",
    "\n",
    "#### INTERFAZ GRAFICA ####\n",
    "\n",
    "ventana = Tk()\n",
    "ventana.title(\"Hipodromo\")\n",
    "ventana = Frame(height=300 , width=500)\n",
    "ventana.pack(padx=20 , pady=20)\n",
    "\n",
    "\n",
    "bienvenida = Label(text=\"¡Bienvenidos!\", font=(\"Arial\",18)).place(x=200 , y=10)\n",
    "text1 = Label(text=\"Selecciona un caballo:\", font=(\"Arial\", 14)).place(x=179 , y=50)\n",
    "\n",
    "caballo1 = Button(ventana , text=\"Caballo 1\", font=(\"Arial\",12)).place(x=50 , y = 100)\n",
    "caballo2 = Button(ventana , text=\"Caballo 2\", font=(\"Arial\",12)).place(x=200 , y = 100)\n",
    "caballo3 = Button(ventana , text=\"Caballo 3\", font=(\"Arial\",12)).place(x=350 , y = 100)\n",
    "\n",
    "instruccion = Button(ventana , text=\"Instrucciones\", font=(\"Arial\",12)).place(x=50,y=250)\n",
    "salir = Button(ventana , text=\"SALIR\" , font=(\"Arial\",12)).place(x=380,y=250)\n",
    "\n",
    "\n",
    "    \n",
    "ventana.mainloop()\n"
   ]
  }
 ],
 "metadata": {
  "interpreter": {
   "hash": "294a62ecfcd5629660e2d003551165d143a83bff2102df7b129a6cc1abc79c68"
  },
  "kernelspec": {
   "display_name": "Python 3.10.3 64-bit",
   "language": "python",
   "name": "python3"
  },
  "language_info": {
   "codemirror_mode": {
    "name": "ipython",
    "version": 3
   },
   "file_extension": ".py",
   "mimetype": "text/x-python",
   "name": "python",
   "nbconvert_exporter": "python",
   "pygments_lexer": "ipython3",
   "version": "3.10.3"
  },
  "orig_nbformat": 4
 },
 "nbformat": 4,
 "nbformat_minor": 2
}
